{
 "cells": [
  {
   "cell_type": "code",
   "execution_count": 1,
   "id": "d259b2b2-5db9-46c8-ba01-d262feab97cb",
   "metadata": {
    "tags": []
   },
   "outputs": [],
   "source": [
    "import pandas as pd\n",
    "import numpy as np\n",
    "import matplotlib.pyplot as plt\n",
    "import seaborn as sns\n",
    "from sklearn.cluster import KMeans, DBSCAN, AgglomerativeClustering\n",
    "from sklearn.preprocessing import RobustScaler, StandardScaler, LabelEncoder, MinMaxScaler\n",
    "from sklearn.metrics import silhouette_score, silhouette_samples\n",
    "from sklearn import metrics"
   ]
  },
  {
   "cell_type": "markdown",
   "id": "dd50cd46-0180-4a1a-9538-7b31befeaada",
   "metadata": {},
   "source": [
    "Faça uma análise de\n",
    "clustering e retire algumas conclusões sobre a segmentação de clientes. Para isso, devem ser utilizados\n",
    "pelo menos os seguintes algoritmos: K-Means,  DBSCAN; Agglomerative Clustering. \n",
    "Utilize o ficheiro com o nome “segmentation data.csv” para realizar a sua análise. As principais conclusões que\n",
    "devem ser retiraram devem ter em consideração as seguintes dimensões:\n",
    "1) Número de perfis de clientes segmentados;\n",
    "2) Principais características dos clientes segmentados;\n",
    "3) Perfil dos clientes maioritários e minoritários / qual o perfil mais dominante e menos dominante;\n",
    "4) Existem clusters bem separados ou onde a sua diferenciação não é tão clara?"
   ]
  },
  {
   "cell_type": "code",
   "execution_count": 2,
   "id": "4e7e9ae6-099a-4c48-8a71-3c1d815229e9",
   "metadata": {
    "tags": []
   },
   "outputs": [],
   "source": [
    "df = pd.read_csv('segmentation data.csv')"
   ]
  },
  {
   "cell_type": "code",
   "execution_count": 3,
   "id": "c2dd5936-610c-4634-9334-19cdecc56ac6",
   "metadata": {
    "tags": []
   },
   "outputs": [
    {
     "name": "stdout",
     "output_type": "stream",
     "text": [
      "<class 'pandas.core.frame.DataFrame'>\n",
      "RangeIndex: 200 entries, 0 to 199\n",
      "Data columns (total 5 columns):\n",
      " #   Column                  Non-Null Count  Dtype \n",
      "---  ------                  --------------  ----- \n",
      " 0   CustomerID              200 non-null    int64 \n",
      " 1   Gender                  200 non-null    object\n",
      " 2   Age                     200 non-null    int64 \n",
      " 3   Annual Income (k$)      200 non-null    int64 \n",
      " 4   Spending Score (1-100)  200 non-null    int64 \n",
      "dtypes: int64(4), object(1)\n",
      "memory usage: 7.1+ KB\n",
      "None\n"
     ]
    }
   ],
   "source": [
    "print(df.info())"
   ]
  },
  {
   "cell_type": "code",
   "execution_count": 4,
   "id": "61bcbaad-9e2e-4f77-ad4e-c97d2a9bd0ab",
   "metadata": {
    "tags": []
   },
   "outputs": [
    {
     "name": "stdout",
     "output_type": "stream",
     "text": [
      "   CustomerID  Gender  Age  Annual Income (k$)  Spending Score (1-100)\n",
      "0           1    Male   19                  15                      39\n",
      "1           2    Male   21                  15                      81\n",
      "2           3  Female   20                  16                       6\n",
      "3           4  Female   23                  16                      77\n",
      "4           5  Female   31                  17                      40\n"
     ]
    }
   ],
   "source": [
    "print(df.head())"
   ]
  },
  {
   "cell_type": "code",
   "execution_count": 5,
   "id": "77dc484a-8bcd-4cb1-abd5-b3c96369c626",
   "metadata": {
    "tags": []
   },
   "outputs": [
    {
     "data": {
      "text/html": [
       "<div>\n",
       "<style scoped>\n",
       "    .dataframe tbody tr th:only-of-type {\n",
       "        vertical-align: middle;\n",
       "    }\n",
       "\n",
       "    .dataframe tbody tr th {\n",
       "        vertical-align: top;\n",
       "    }\n",
       "\n",
       "    .dataframe thead th {\n",
       "        text-align: right;\n",
       "    }\n",
       "</style>\n",
       "<table border=\"1\" class=\"dataframe\">\n",
       "  <thead>\n",
       "    <tr style=\"text-align: right;\">\n",
       "      <th></th>\n",
       "      <th>CustomerID</th>\n",
       "      <th>Age</th>\n",
       "      <th>Annual Income (k$)</th>\n",
       "      <th>Spending Score (1-100)</th>\n",
       "    </tr>\n",
       "  </thead>\n",
       "  <tbody>\n",
       "    <tr>\n",
       "      <th>count</th>\n",
       "      <td>200.000000</td>\n",
       "      <td>200.000000</td>\n",
       "      <td>200.000000</td>\n",
       "      <td>200.000000</td>\n",
       "    </tr>\n",
       "    <tr>\n",
       "      <th>mean</th>\n",
       "      <td>100.500000</td>\n",
       "      <td>38.850000</td>\n",
       "      <td>60.560000</td>\n",
       "      <td>50.200000</td>\n",
       "    </tr>\n",
       "    <tr>\n",
       "      <th>std</th>\n",
       "      <td>57.879185</td>\n",
       "      <td>13.969007</td>\n",
       "      <td>26.264721</td>\n",
       "      <td>25.823522</td>\n",
       "    </tr>\n",
       "    <tr>\n",
       "      <th>min</th>\n",
       "      <td>1.000000</td>\n",
       "      <td>18.000000</td>\n",
       "      <td>15.000000</td>\n",
       "      <td>1.000000</td>\n",
       "    </tr>\n",
       "    <tr>\n",
       "      <th>25%</th>\n",
       "      <td>50.750000</td>\n",
       "      <td>28.750000</td>\n",
       "      <td>41.500000</td>\n",
       "      <td>34.750000</td>\n",
       "    </tr>\n",
       "    <tr>\n",
       "      <th>50%</th>\n",
       "      <td>100.500000</td>\n",
       "      <td>36.000000</td>\n",
       "      <td>61.500000</td>\n",
       "      <td>50.000000</td>\n",
       "    </tr>\n",
       "    <tr>\n",
       "      <th>75%</th>\n",
       "      <td>150.250000</td>\n",
       "      <td>49.000000</td>\n",
       "      <td>78.000000</td>\n",
       "      <td>73.000000</td>\n",
       "    </tr>\n",
       "    <tr>\n",
       "      <th>max</th>\n",
       "      <td>200.000000</td>\n",
       "      <td>70.000000</td>\n",
       "      <td>137.000000</td>\n",
       "      <td>99.000000</td>\n",
       "    </tr>\n",
       "  </tbody>\n",
       "</table>\n",
       "</div>"
      ],
      "text/plain": [
       "       CustomerID         Age  Annual Income (k$)  Spending Score (1-100)\n",
       "count  200.000000  200.000000          200.000000              200.000000\n",
       "mean   100.500000   38.850000           60.560000               50.200000\n",
       "std     57.879185   13.969007           26.264721               25.823522\n",
       "min      1.000000   18.000000           15.000000                1.000000\n",
       "25%     50.750000   28.750000           41.500000               34.750000\n",
       "50%    100.500000   36.000000           61.500000               50.000000\n",
       "75%    150.250000   49.000000           78.000000               73.000000\n",
       "max    200.000000   70.000000          137.000000               99.000000"
      ]
     },
     "execution_count": 5,
     "metadata": {},
     "output_type": "execute_result"
    }
   ],
   "source": [
    "df.describe()"
   ]
  },
  {
   "cell_type": "code",
   "execution_count": 6,
   "id": "6c14b23a-600d-4349-b252-a5e4dcf899dc",
   "metadata": {
    "tags": []
   },
   "outputs": [
    {
     "data": {
      "text/html": [
       "<div>\n",
       "<style scoped>\n",
       "    .dataframe tbody tr th:only-of-type {\n",
       "        vertical-align: middle;\n",
       "    }\n",
       "\n",
       "    .dataframe tbody tr th {\n",
       "        vertical-align: top;\n",
       "    }\n",
       "\n",
       "    .dataframe thead th {\n",
       "        text-align: right;\n",
       "    }\n",
       "</style>\n",
       "<table border=\"1\" class=\"dataframe\">\n",
       "  <thead>\n",
       "    <tr style=\"text-align: right;\">\n",
       "      <th></th>\n",
       "      <th>CustomerID</th>\n",
       "      <th>Gender</th>\n",
       "      <th>Age</th>\n",
       "      <th>Annual Income (k$)</th>\n",
       "      <th>Spending Score (1-100)</th>\n",
       "    </tr>\n",
       "  </thead>\n",
       "  <tbody>\n",
       "    <tr>\n",
       "      <th>0</th>\n",
       "      <td>1</td>\n",
       "      <td>1</td>\n",
       "      <td>19</td>\n",
       "      <td>15</td>\n",
       "      <td>39</td>\n",
       "    </tr>\n",
       "    <tr>\n",
       "      <th>1</th>\n",
       "      <td>2</td>\n",
       "      <td>1</td>\n",
       "      <td>21</td>\n",
       "      <td>15</td>\n",
       "      <td>81</td>\n",
       "    </tr>\n",
       "    <tr>\n",
       "      <th>2</th>\n",
       "      <td>3</td>\n",
       "      <td>0</td>\n",
       "      <td>20</td>\n",
       "      <td>16</td>\n",
       "      <td>6</td>\n",
       "    </tr>\n",
       "    <tr>\n",
       "      <th>3</th>\n",
       "      <td>4</td>\n",
       "      <td>0</td>\n",
       "      <td>23</td>\n",
       "      <td>16</td>\n",
       "      <td>77</td>\n",
       "    </tr>\n",
       "    <tr>\n",
       "      <th>4</th>\n",
       "      <td>5</td>\n",
       "      <td>0</td>\n",
       "      <td>31</td>\n",
       "      <td>17</td>\n",
       "      <td>40</td>\n",
       "    </tr>\n",
       "  </tbody>\n",
       "</table>\n",
       "</div>"
      ],
      "text/plain": [
       "   CustomerID  Gender  Age  Annual Income (k$)  Spending Score (1-100)\n",
       "0           1       1   19                  15                      39\n",
       "1           2       1   21                  15                      81\n",
       "2           3       0   20                  16                       6\n",
       "3           4       0   23                  16                      77\n",
       "4           5       0   31                  17                      40"
      ]
     },
     "execution_count": 6,
     "metadata": {},
     "output_type": "execute_result"
    }
   ],
   "source": [
    "label_encoder = LabelEncoder()\n",
    "df['Gender'] = label_encoder.fit_transform(df['Gender'])\n",
    "df.head()"
   ]
  },
  {
   "cell_type": "code",
   "execution_count": 7,
   "id": "0f254301-be76-487d-86c0-e34d54fa17d4",
   "metadata": {
    "tags": []
   },
   "outputs": [
    {
     "name": "stdout",
     "output_type": "stream",
     "text": [
      "   Gender  Age  Annual Income (k$)  Spending Score (1-100)\n",
      "0       1   19                  15                      39\n",
      "1       1   21                  15                      81\n",
      "2       0   20                  16                       6\n",
      "3       0   23                  16                      77\n",
      "4       0   31                  17                      40\n"
     ]
    }
   ],
   "source": [
    "# Removendo colunas desnecessárias\n",
    "df = df.drop(columns=['CustomerID'])\n",
    "print(df.head())"
   ]
  },
  {
   "cell_type": "code",
   "execution_count": 8,
   "id": "8bb3a126-0880-4e0c-bbc6-6f40b2e87315",
   "metadata": {
    "tags": []
   },
   "outputs": [],
   "source": [
    "# Normalizar os dados\n",
    "scaler = RobustScaler()\n",
    "df_scaled = scaler.fit_transform(df)"
   ]
  },
  {
   "cell_type": "code",
   "execution_count": 9,
   "id": "a8791568-d3d3-4767-abf7-cffa4d9c1040",
   "metadata": {
    "tags": []
   },
   "outputs": [
    {
     "name": "stderr",
     "output_type": "stream",
     "text": [
      "C:\\Users\\Andre\\anaconda3\\lib\\site-packages\\sklearn\\cluster\\_kmeans.py:1037: UserWarning: KMeans is known to have a memory leak on Windows with MKL, when there are less chunks than available threads. You can avoid it by setting the environment variable OMP_NUM_THREADS=1.\n",
      "  \"KMeans is known to have a memory leak on Windows \"\n"
     ]
    }
   ],
   "source": [
    "# Determinando os números de clusters\n",
    "sse = []\n",
    "for k in range(1, 11):\n",
    "    kmeans = KMeans(n_clusters=k, random_state=0)\n",
    "    kmeans.fit(df_scaled)\n",
    "    sse.append(kmeans.inertia_)"
   ]
  },
  {
   "cell_type": "code",
   "execution_count": 10,
   "id": "f82f45a4-914c-405b-ac67-62ff52d30c26",
   "metadata": {
    "tags": []
   },
   "outputs": [
    {
     "data": {
      "image/png": "[encoded data removed]",
      "text/plain": [
       "<Figure size 720x432 with 1 Axes>"
      ]
     },
     "metadata": {
      "needs_background": "light"
     },
     "output_type": "display_data"
    }
   ],
   "source": [
    "# Plotando o gráfico elbow \n",
    "plt.figure(figsize=(10, 6))\n",
    "plt.plot(range(1, 11), sse, marker='o')\n",
    "plt.xlabel('Number of Clusters')\n",
    "plt.ylabel('SSE')\n",
    "plt.title('Elbow Method')\n",
    "plt.show()"
   ]
  },
  {
   "cell_type": "code",
   "execution_count": 11,
   "id": "82aa9228-e983-4b8b-9c4c-630acb0d2198",
   "metadata": {
    "tags": []
   },
   "outputs": [],
   "source": [
    "X = df[['Gender','Age', 'Annual Income (k$)', 'Spending Score (1-100)']].values"
   ]
  },
  {
   "cell_type": "markdown",
   "id": "f29d7add-3ba1-4c42-b0ac-c8809963d72c",
   "metadata": {},
   "source": [
    "K-Means"
   ]
  },
  {
   "cell_type": "code",
   "execution_count": 12,
   "id": "028544e9-976c-41e8-97d7-ff2e4ffb7085",
   "metadata": {
    "tags": []
   },
   "outputs": [
    {
     "name": "stdout",
     "output_type": "stream",
     "text": [
      "Silhouette Score for K-Means: 0.4440669204743008\n"
     ]
    }
   ],
   "source": [
    "# Treinando o modelo \n",
    "optimal_clusters = 5\n",
    "kmeans = KMeans(n_clusters=optimal_clusters, random_state=0)\n",
    "df['Cluster_KMeans'] = kmeans.fit_predict(X)\n",
    "kmeans_score = silhouette_score(X, df['Cluster_KMeans'])\n",
    "print(f\"Silhouette Score for K-Means: {kmeans_score}\")"
   ]
  },
  {
   "cell_type": "code",
   "execution_count": 13,
   "id": "40532899-1b1a-436e-b458-540e9888da6d",
   "metadata": {
    "tags": []
   },
   "outputs": [
    {
     "data": {
      "image/png": "[encoded data removed]",
      "text/plain": [
       "<Figure size 720x432 with 1 Axes>"
      ]
     },
     "metadata": {
      "needs_background": "light"
     },
     "output_type": "display_data"
    }
   ],
   "source": [
    "plt.figure(figsize=(10, 6))\n",
    "sns.scatterplot(x=df['Annual Income (k$)'], y=df['Spending Score (1-100)'], hue=df['Cluster_KMeans'], palette='Set2')\n",
    "plt.title('K-Means Clustering')\n",
    "plt.show()"
   ]
  },
  {
   "cell_type": "markdown",
   "id": "0d5f373c-5fd5-4cad-a583-94a153266249",
   "metadata": {
    "tags": []
   },
   "source": [
    " DBSCAN"
   ]
  },
  {
   "cell_type": "code",
   "execution_count": 14,
   "id": "91c4c2f7-9a48-4231-ba00-fcaa9e5cbfa7",
   "metadata": {
    "tags": []
   },
   "outputs": [],
   "source": [
    "Y = df[['Age', 'Annual Income (k$)', 'Spending Score (1-100)']].values"
   ]
  },
  {
   "cell_type": "code",
   "execution_count": 15,
   "id": "3592ba61-9457-4329-a746-0b27a77e002b",
   "metadata": {
    "tags": []
   },
   "outputs": [
    {
     "data": {
      "image/png": "[encoded data removed]",
      "text/plain": [
       "<Figure size 432x288 with 1 Axes>"
      ]
     },
     "metadata": {
      "needs_background": "light"
     },
     "output_type": "display_data"
    }
   ],
   "source": [
    "from sklearn.neighbors import NearestNeighbors\n",
    "\n",
    "# Escolha um valor para k (geralmente igual a min_samples)\n",
    "k = 5\n",
    "\n",
    "# Calcule a distância k-ésima\n",
    "neighbors = NearestNeighbors(n_neighbors=k)\n",
    "neighbors_fit = neighbors.fit(Y)\n",
    "distances, indices = neighbors_fit.kneighbors(Y)\n",
    "\n",
    "# Ordenar as distâncias\n",
    "distances = np.sort(distances[:, k-1], axis=0)\n",
    "\n",
    "# Plotar o gráfico de distância k-ésima\n",
    "plt.plot(distances)\n",
    "plt.ylabel('k-NN Distance')\n",
    "plt.xlabel('Points sorted by distance')\n",
    "plt.show()"
   ]
  },
  {
   "cell_type": "code",
   "execution_count": 16,
   "id": "e86c351c-496c-4cdc-87e5-50e92e7af766",
   "metadata": {},
   "outputs": [
    {
     "name": "stdout",
     "output_type": "stream",
     "text": [
      "Silhouette Score for DBSCAN: 0.20675480670600443\n"
     ]
    }
   ],
   "source": [
    "dbscan = DBSCAN(eps=12, min_samples=7)\n",
    "df['Cluster_DBSCAN'] = dbscan.fit_predict(Y)\n",
    "dbscan_score = silhouette_score(Y, df['Cluster_DBSCAN'])\n",
    "print(f\"Silhouette Score for DBSCAN: {dbscan_score}\")"
   ]
  },
  {
   "cell_type": "code",
   "execution_count": 17,
   "id": "dde7c48f-9625-43bf-8a5e-900139c7253e",
   "metadata": {},
   "outputs": [
    {
     "data": {
      "image/png": "[encoded data removed]",
      "text/plain": [
       "<Figure size 720x432 with 1 Axes>"
      ]
     },
     "metadata": {
      "needs_background": "light"
     },
     "output_type": "display_data"
    }
   ],
   "source": [
    "plt.figure(figsize=(10, 6))\n",
    "sns.scatterplot(x=df['Annual Income (k$)'], y=df['Spending Score (1-100)'], hue=df['Cluster_DBSCAN'], palette='Set2')\n",
    "plt.title('DBSCAN Clustering')\n",
    "plt.show()"
   ]
  },
  {
   "cell_type": "markdown",
   "id": "47c145e1-59a4-4571-a6b1-3b3b18172de0",
   "metadata": {},
   "source": [
    "Agglomerative Clustering"
   ]
  },
  {
   "cell_type": "code",
   "execution_count": 18,
   "id": "238dedfe-8dc6-46af-b9cf-706beaac4ffa",
   "metadata": {},
   "outputs": [
    {
     "name": "stdout",
     "output_type": "stream",
     "text": [
      "Silhouette Score for Agglomerative Clustering: 0.43997527212476695\n"
     ]
    }
   ],
   "source": [
    "agg_clustering = AgglomerativeClustering(n_clusters=optimal_clusters)  # Adjust based on the number of clusters\n",
    "df['Cluster_Agg'] = agg_clustering.fit_predict(X)\n",
    "Cluster_Agg_score = silhouette_score(X,df['Cluster_Agg'])\n",
    "print(f\"Silhouette Score for Agglomerative Clustering: {Cluster_Agg_score}\")"
   ]
  },
  {
   "cell_type": "code",
   "execution_count": 19,
   "id": "ecde9049-4918-410f-a75d-568ce5a4a9d3",
   "metadata": {},
   "outputs": [
    {
     "data": {
      "image/png": "[encoded data removed]",
      "text/plain": [
       "<Figure size 720x432 with 1 Axes>"
      ]
     },
     "metadata": {
      "needs_background": "light"
     },
     "output_type": "display_data"
    }
   ],
   "source": [
    "plt.figure(figsize=(10, 6))\n",
    "sns.scatterplot(x=df['Annual Income (k$)'], y=df['Spending Score (1-100)'], hue=df['Cluster_Agg'], palette='Set2')\n",
    "plt.title('Agglomerative Clustering')\n",
    "plt.show()"
   ]
  },
  {
   "cell_type": "markdown",
   "id": "0e30f4fd-1135-4844-bc6b-9f7ea524697f",
   "metadata": {},
   "source": [
    "### Conclusões "
   ]
  },
  {
   "cell_type": "markdown",
   "id": "12aabfc0-dba8-4170-a580-b6ee5f9007e9",
   "metadata": {},
   "source": [
    "Dos algoritimos o K-Means foi o que melhor performou com o maior Silhouette Score for K-Means: 0.4440669204743008, o Agglomerative Clustering com o desempenho bem próximo com o Silhouette Score for Agglomerative Clustering: 0.43997527212476695, por fim DBSCAN com Silhouette Score for DBSCAN: 0.20675480670600443."
   ]
  },
  {
   "cell_type": "markdown",
   "id": "ec338ea0-d350-45a9-b973-683600292c03",
   "metadata": {},
   "source": [
    "Análise dos Clusters"
   ]
  },
  {
   "cell_type": "code",
   "execution_count": 20,
   "id": "b13dbddb-b502-4513-be5d-f4ce1b25df57",
   "metadata": {
    "tags": []
   },
   "outputs": [
    {
     "data": {
      "text/html": [
       "<div>\n",
       "<style scoped>\n",
       "    .dataframe tbody tr th:only-of-type {\n",
       "        vertical-align: middle;\n",
       "    }\n",
       "\n",
       "    .dataframe tbody tr th {\n",
       "        vertical-align: top;\n",
       "    }\n",
       "\n",
       "    .dataframe thead th {\n",
       "        text-align: right;\n",
       "    }\n",
       "</style>\n",
       "<table border=\"1\" class=\"dataframe\">\n",
       "  <thead>\n",
       "    <tr style=\"text-align: right;\">\n",
       "      <th></th>\n",
       "      <th>Gender</th>\n",
       "      <th>Age</th>\n",
       "      <th>Annual Income (k$)</th>\n",
       "      <th>Spending Score (1-100)</th>\n",
       "      <th>Cluster_KMeans</th>\n",
       "      <th>Cluster_DBSCAN</th>\n",
       "      <th>Cluster_Agg</th>\n",
       "    </tr>\n",
       "  </thead>\n",
       "  <tbody>\n",
       "    <tr>\n",
       "      <th>count</th>\n",
       "      <td>23.000000</td>\n",
       "      <td>23.000000</td>\n",
       "      <td>23.000000</td>\n",
       "      <td>23.000000</td>\n",
       "      <td>23.0</td>\n",
       "      <td>23.000000</td>\n",
       "      <td>23.0</td>\n",
       "    </tr>\n",
       "    <tr>\n",
       "      <th>mean</th>\n",
       "      <td>0.391304</td>\n",
       "      <td>45.217391</td>\n",
       "      <td>26.304348</td>\n",
       "      <td>20.913043</td>\n",
       "      <td>0.0</td>\n",
       "      <td>-0.913043</td>\n",
       "      <td>4.0</td>\n",
       "    </tr>\n",
       "    <tr>\n",
       "      <th>std</th>\n",
       "      <td>0.499011</td>\n",
       "      <td>13.228607</td>\n",
       "      <td>7.893811</td>\n",
       "      <td>13.017167</td>\n",
       "      <td>0.0</td>\n",
       "      <td>0.417029</td>\n",
       "      <td>0.0</td>\n",
       "    </tr>\n",
       "    <tr>\n",
       "      <th>min</th>\n",
       "      <td>0.000000</td>\n",
       "      <td>19.000000</td>\n",
       "      <td>15.000000</td>\n",
       "      <td>3.000000</td>\n",
       "      <td>0.0</td>\n",
       "      <td>-1.000000</td>\n",
       "      <td>4.0</td>\n",
       "    </tr>\n",
       "    <tr>\n",
       "      <th>25%</th>\n",
       "      <td>0.000000</td>\n",
       "      <td>35.500000</td>\n",
       "      <td>19.500000</td>\n",
       "      <td>9.500000</td>\n",
       "      <td>0.0</td>\n",
       "      <td>-1.000000</td>\n",
       "      <td>4.0</td>\n",
       "    </tr>\n",
       "    <tr>\n",
       "      <th>50%</th>\n",
       "      <td>0.000000</td>\n",
       "      <td>46.000000</td>\n",
       "      <td>25.000000</td>\n",
       "      <td>17.000000</td>\n",
       "      <td>0.0</td>\n",
       "      <td>-1.000000</td>\n",
       "      <td>4.0</td>\n",
       "    </tr>\n",
       "    <tr>\n",
       "      <th>75%</th>\n",
       "      <td>1.000000</td>\n",
       "      <td>53.500000</td>\n",
       "      <td>33.000000</td>\n",
       "      <td>33.500000</td>\n",
       "      <td>0.0</td>\n",
       "      <td>-1.000000</td>\n",
       "      <td>4.0</td>\n",
       "    </tr>\n",
       "    <tr>\n",
       "      <th>max</th>\n",
       "      <td>1.000000</td>\n",
       "      <td>67.000000</td>\n",
       "      <td>39.000000</td>\n",
       "      <td>40.000000</td>\n",
       "      <td>0.0</td>\n",
       "      <td>1.000000</td>\n",
       "      <td>4.0</td>\n",
       "    </tr>\n",
       "  </tbody>\n",
       "</table>\n",
       "</div>"
      ],
      "text/plain": [
       "          Gender        Age  Annual Income (k$)  Spending Score (1-100)  \\\n",
       "count  23.000000  23.000000           23.000000               23.000000   \n",
       "mean    0.391304  45.217391           26.304348               20.913043   \n",
       "std     0.499011  13.228607            7.893811               13.017167   \n",
       "min     0.000000  19.000000           15.000000                3.000000   \n",
       "25%     0.000000  35.500000           19.500000                9.500000   \n",
       "50%     0.000000  46.000000           25.000000               17.000000   \n",
       "75%     1.000000  53.500000           33.000000               33.500000   \n",
       "max     1.000000  67.000000           39.000000               40.000000   \n",
       "\n",
       "       Cluster_KMeans  Cluster_DBSCAN  Cluster_Agg  \n",
       "count            23.0       23.000000         23.0  \n",
       "mean              0.0       -0.913043          4.0  \n",
       "std               0.0        0.417029          0.0  \n",
       "min               0.0       -1.000000          4.0  \n",
       "25%               0.0       -1.000000          4.0  \n",
       "50%               0.0       -1.000000          4.0  \n",
       "75%               0.0       -1.000000          4.0  \n",
       "max               0.0        1.000000          4.0  "
      ]
     },
     "execution_count": 20,
     "metadata": {},
     "output_type": "execute_result"
    }
   ],
   "source": [
    "cluster_0 = df[df['Cluster_KMeans'] == 0]\n",
    "cluster_0.describe()"
   ]
  },
  {
   "cell_type": "code",
   "execution_count": 21,
   "id": "452a0bff-7da0-4c07-820e-14b785558367",
   "metadata": {},
   "outputs": [],
   "source": [
    "# O cluster_0 composto de 23 elementos, de ambos sexos, com idade média 45.2 anos, renda anual média de 26.3 (k$).\n",
    "# O Spending Score médio de 20.9"
   ]
  },
  {
   "cell_type": "code",
   "execution_count": 22,
   "id": "1b7e3762-402d-4189-b202-43d27ce5a7ed",
   "metadata": {
    "tags": []
   },
   "outputs": [
    {
     "data": {
      "text/html": [
       "<div>\n",
       "<style scoped>\n",
       "    .dataframe tbody tr th:only-of-type {\n",
       "        vertical-align: middle;\n",
       "    }\n",
       "\n",
       "    .dataframe tbody tr th {\n",
       "        vertical-align: top;\n",
       "    }\n",
       "\n",
       "    .dataframe thead th {\n",
       "        text-align: right;\n",
       "    }\n",
       "</style>\n",
       "<table border=\"1\" class=\"dataframe\">\n",
       "  <thead>\n",
       "    <tr style=\"text-align: right;\">\n",
       "      <th></th>\n",
       "      <th>Gender</th>\n",
       "      <th>Age</th>\n",
       "      <th>Annual Income (k$)</th>\n",
       "      <th>Spending Score (1-100)</th>\n",
       "      <th>Cluster_KMeans</th>\n",
       "      <th>Cluster_DBSCAN</th>\n",
       "      <th>Cluster_Agg</th>\n",
       "    </tr>\n",
       "  </thead>\n",
       "  <tbody>\n",
       "    <tr>\n",
       "      <th>count</th>\n",
       "      <td>39.000000</td>\n",
       "      <td>39.000000</td>\n",
       "      <td>39.000000</td>\n",
       "      <td>39.000000</td>\n",
       "      <td>39.0</td>\n",
       "      <td>39.000000</td>\n",
       "      <td>39.0</td>\n",
       "    </tr>\n",
       "    <tr>\n",
       "      <th>mean</th>\n",
       "      <td>0.461538</td>\n",
       "      <td>32.692308</td>\n",
       "      <td>86.538462</td>\n",
       "      <td>82.128205</td>\n",
       "      <td>1.0</td>\n",
       "      <td>1.461538</td>\n",
       "      <td>2.0</td>\n",
       "    </tr>\n",
       "    <tr>\n",
       "      <th>std</th>\n",
       "      <td>0.505035</td>\n",
       "      <td>3.728650</td>\n",
       "      <td>16.312485</td>\n",
       "      <td>9.364489</td>\n",
       "      <td>0.0</td>\n",
       "      <td>1.166329</td>\n",
       "      <td>0.0</td>\n",
       "    </tr>\n",
       "    <tr>\n",
       "      <th>min</th>\n",
       "      <td>0.000000</td>\n",
       "      <td>27.000000</td>\n",
       "      <td>69.000000</td>\n",
       "      <td>63.000000</td>\n",
       "      <td>1.0</td>\n",
       "      <td>-1.000000</td>\n",
       "      <td>2.0</td>\n",
       "    </tr>\n",
       "    <tr>\n",
       "      <th>25%</th>\n",
       "      <td>0.000000</td>\n",
       "      <td>30.000000</td>\n",
       "      <td>75.500000</td>\n",
       "      <td>74.500000</td>\n",
       "      <td>1.0</td>\n",
       "      <td>2.000000</td>\n",
       "      <td>2.0</td>\n",
       "    </tr>\n",
       "    <tr>\n",
       "      <th>50%</th>\n",
       "      <td>0.000000</td>\n",
       "      <td>32.000000</td>\n",
       "      <td>79.000000</td>\n",
       "      <td>83.000000</td>\n",
       "      <td>1.0</td>\n",
       "      <td>2.000000</td>\n",
       "      <td>2.0</td>\n",
       "    </tr>\n",
       "    <tr>\n",
       "      <th>75%</th>\n",
       "      <td>1.000000</td>\n",
       "      <td>35.500000</td>\n",
       "      <td>95.000000</td>\n",
       "      <td>90.000000</td>\n",
       "      <td>1.0</td>\n",
       "      <td>2.000000</td>\n",
       "      <td>2.0</td>\n",
       "    </tr>\n",
       "    <tr>\n",
       "      <th>max</th>\n",
       "      <td>1.000000</td>\n",
       "      <td>40.000000</td>\n",
       "      <td>137.000000</td>\n",
       "      <td>97.000000</td>\n",
       "      <td>1.0</td>\n",
       "      <td>2.000000</td>\n",
       "      <td>2.0</td>\n",
       "    </tr>\n",
       "  </tbody>\n",
       "</table>\n",
       "</div>"
      ],
      "text/plain": [
       "          Gender        Age  Annual Income (k$)  Spending Score (1-100)  \\\n",
       "count  39.000000  39.000000           39.000000               39.000000   \n",
       "mean    0.461538  32.692308           86.538462               82.128205   \n",
       "std     0.505035   3.728650           16.312485                9.364489   \n",
       "min     0.000000  27.000000           69.000000               63.000000   \n",
       "25%     0.000000  30.000000           75.500000               74.500000   \n",
       "50%     0.000000  32.000000           79.000000               83.000000   \n",
       "75%     1.000000  35.500000           95.000000               90.000000   \n",
       "max     1.000000  40.000000          137.000000               97.000000   \n",
       "\n",
       "       Cluster_KMeans  Cluster_DBSCAN  Cluster_Agg  \n",
       "count            39.0       39.000000         39.0  \n",
       "mean              1.0        1.461538          2.0  \n",
       "std               0.0        1.166329          0.0  \n",
       "min               1.0       -1.000000          2.0  \n",
       "25%               1.0        2.000000          2.0  \n",
       "50%               1.0        2.000000          2.0  \n",
       "75%               1.0        2.000000          2.0  \n",
       "max               1.0        2.000000          2.0  "
      ]
     },
     "execution_count": 22,
     "metadata": {},
     "output_type": "execute_result"
    }
   ],
   "source": [
    "cluster_1 = df[df['Cluster_KMeans'] == 1]\n",
    "cluster_1.describe()"
   ]
  },
  {
   "cell_type": "code",
   "execution_count": 23,
   "id": "83812672-58a8-4ff8-888d-e158c2788ef6",
   "metadata": {},
   "outputs": [],
   "source": [
    "# O cluster_1 composto de 39 elementos, de ambos sexos, com idade média 32.6 anos, renda anual média de 86.53 (k$)\n",
    "# O Spending Score médio de 82.12"
   ]
  },
  {
   "cell_type": "code",
   "execution_count": 24,
   "id": "e59e24d4-d120-4b70-88b3-8181716ee2f3",
   "metadata": {
    "tags": []
   },
   "outputs": [
    {
     "data": {
      "text/html": [
       "<div>\n",
       "<style scoped>\n",
       "    .dataframe tbody tr th:only-of-type {\n",
       "        vertical-align: middle;\n",
       "    }\n",
       "\n",
       "    .dataframe tbody tr th {\n",
       "        vertical-align: top;\n",
       "    }\n",
       "\n",
       "    .dataframe thead th {\n",
       "        text-align: right;\n",
       "    }\n",
       "</style>\n",
       "<table border=\"1\" class=\"dataframe\">\n",
       "  <thead>\n",
       "    <tr style=\"text-align: right;\">\n",
       "      <th></th>\n",
       "      <th>Gender</th>\n",
       "      <th>Age</th>\n",
       "      <th>Annual Income (k$)</th>\n",
       "      <th>Spending Score (1-100)</th>\n",
       "      <th>Cluster_KMeans</th>\n",
       "      <th>Cluster_DBSCAN</th>\n",
       "      <th>Cluster_Agg</th>\n",
       "    </tr>\n",
       "  </thead>\n",
       "  <tbody>\n",
       "    <tr>\n",
       "      <th>count</th>\n",
       "      <td>79.000000</td>\n",
       "      <td>79.000000</td>\n",
       "      <td>79.000000</td>\n",
       "      <td>79.000000</td>\n",
       "      <td>79.0</td>\n",
       "      <td>79.000000</td>\n",
       "      <td>79.000000</td>\n",
       "    </tr>\n",
       "    <tr>\n",
       "      <th>mean</th>\n",
       "      <td>0.417722</td>\n",
       "      <td>43.088608</td>\n",
       "      <td>55.291139</td>\n",
       "      <td>49.569620</td>\n",
       "      <td>2.0</td>\n",
       "      <td>0.974684</td>\n",
       "      <td>0.012658</td>\n",
       "    </tr>\n",
       "    <tr>\n",
       "      <th>std</th>\n",
       "      <td>0.496335</td>\n",
       "      <td>16.478572</td>\n",
       "      <td>8.710665</td>\n",
       "      <td>6.242295</td>\n",
       "      <td>0.0</td>\n",
       "      <td>0.225018</td>\n",
       "      <td>0.112509</td>\n",
       "    </tr>\n",
       "    <tr>\n",
       "      <th>min</th>\n",
       "      <td>0.000000</td>\n",
       "      <td>18.000000</td>\n",
       "      <td>40.000000</td>\n",
       "      <td>35.000000</td>\n",
       "      <td>2.0</td>\n",
       "      <td>-1.000000</td>\n",
       "      <td>0.000000</td>\n",
       "    </tr>\n",
       "    <tr>\n",
       "      <th>25%</th>\n",
       "      <td>0.000000</td>\n",
       "      <td>27.000000</td>\n",
       "      <td>48.000000</td>\n",
       "      <td>44.500000</td>\n",
       "      <td>2.0</td>\n",
       "      <td>1.000000</td>\n",
       "      <td>0.000000</td>\n",
       "    </tr>\n",
       "    <tr>\n",
       "      <th>50%</th>\n",
       "      <td>0.000000</td>\n",
       "      <td>47.000000</td>\n",
       "      <td>54.000000</td>\n",
       "      <td>50.000000</td>\n",
       "      <td>2.0</td>\n",
       "      <td>1.000000</td>\n",
       "      <td>0.000000</td>\n",
       "    </tr>\n",
       "    <tr>\n",
       "      <th>75%</th>\n",
       "      <td>1.000000</td>\n",
       "      <td>54.500000</td>\n",
       "      <td>62.000000</td>\n",
       "      <td>55.000000</td>\n",
       "      <td>2.0</td>\n",
       "      <td>1.000000</td>\n",
       "      <td>0.000000</td>\n",
       "    </tr>\n",
       "    <tr>\n",
       "      <th>max</th>\n",
       "      <td>1.000000</td>\n",
       "      <td>70.000000</td>\n",
       "      <td>76.000000</td>\n",
       "      <td>60.000000</td>\n",
       "      <td>2.0</td>\n",
       "      <td>1.000000</td>\n",
       "      <td>1.000000</td>\n",
       "    </tr>\n",
       "  </tbody>\n",
       "</table>\n",
       "</div>"
      ],
      "text/plain": [
       "          Gender        Age  Annual Income (k$)  Spending Score (1-100)  \\\n",
       "count  79.000000  79.000000           79.000000               79.000000   \n",
       "mean    0.417722  43.088608           55.291139               49.569620   \n",
       "std     0.496335  16.478572            8.710665                6.242295   \n",
       "min     0.000000  18.000000           40.000000               35.000000   \n",
       "25%     0.000000  27.000000           48.000000               44.500000   \n",
       "50%     0.000000  47.000000           54.000000               50.000000   \n",
       "75%     1.000000  54.500000           62.000000               55.000000   \n",
       "max     1.000000  70.000000           76.000000               60.000000   \n",
       "\n",
       "       Cluster_KMeans  Cluster_DBSCAN  Cluster_Agg  \n",
       "count            79.0       79.000000    79.000000  \n",
       "mean              2.0        0.974684     0.012658  \n",
       "std               0.0        0.225018     0.112509  \n",
       "min               2.0       -1.000000     0.000000  \n",
       "25%               2.0        1.000000     0.000000  \n",
       "50%               2.0        1.000000     0.000000  \n",
       "75%               2.0        1.000000     0.000000  \n",
       "max               2.0        1.000000     1.000000  "
      ]
     },
     "execution_count": 24,
     "metadata": {},
     "output_type": "execute_result"
    }
   ],
   "source": [
    "cluster_2 = df[df['Cluster_KMeans'] == 2]\n",
    "cluster_2.describe()"
   ]
  },
  {
   "cell_type": "code",
   "execution_count": 25,
   "id": "b5e9cfdb-ba35-411f-8e04-d45cfe2b8325",
   "metadata": {},
   "outputs": [],
   "source": [
    "# O cluster_2 composto de 79 elementos, de ambos sexos, com idade média 43 anos, renda anual média de 55.29(k$).\n",
    "# O Spending Score médio de 49.56"
   ]
  },
  {
   "cell_type": "code",
   "execution_count": 26,
   "id": "c7eca26f-6fc8-4a47-9d7f-284bd4d21f76",
   "metadata": {
    "tags": []
   },
   "outputs": [
    {
     "data": {
      "text/html": [
       "<div>\n",
       "<style scoped>\n",
       "    .dataframe tbody tr th:only-of-type {\n",
       "        vertical-align: middle;\n",
       "    }\n",
       "\n",
       "    .dataframe tbody tr th {\n",
       "        vertical-align: top;\n",
       "    }\n",
       "\n",
       "    .dataframe thead th {\n",
       "        text-align: right;\n",
       "    }\n",
       "</style>\n",
       "<table border=\"1\" class=\"dataframe\">\n",
       "  <thead>\n",
       "    <tr style=\"text-align: right;\">\n",
       "      <th></th>\n",
       "      <th>Gender</th>\n",
       "      <th>Age</th>\n",
       "      <th>Annual Income (k$)</th>\n",
       "      <th>Spending Score (1-100)</th>\n",
       "      <th>Cluster_KMeans</th>\n",
       "      <th>Cluster_DBSCAN</th>\n",
       "      <th>Cluster_Agg</th>\n",
       "    </tr>\n",
       "  </thead>\n",
       "  <tbody>\n",
       "    <tr>\n",
       "      <th>count</th>\n",
       "      <td>36.000000</td>\n",
       "      <td>36.000000</td>\n",
       "      <td>36.000000</td>\n",
       "      <td>36.000000</td>\n",
       "      <td>36.0</td>\n",
       "      <td>36.000000</td>\n",
       "      <td>36.000000</td>\n",
       "    </tr>\n",
       "    <tr>\n",
       "      <th>mean</th>\n",
       "      <td>0.527778</td>\n",
       "      <td>40.666667</td>\n",
       "      <td>87.750000</td>\n",
       "      <td>17.583333</td>\n",
       "      <td>3.0</td>\n",
       "      <td>0.333333</td>\n",
       "      <td>0.944444</td>\n",
       "    </tr>\n",
       "    <tr>\n",
       "      <th>std</th>\n",
       "      <td>0.506309</td>\n",
       "      <td>11.496583</td>\n",
       "      <td>16.387059</td>\n",
       "      <td>10.204691</td>\n",
       "      <td>0.0</td>\n",
       "      <td>1.912366</td>\n",
       "      <td>0.232311</td>\n",
       "    </tr>\n",
       "    <tr>\n",
       "      <th>min</th>\n",
       "      <td>0.000000</td>\n",
       "      <td>19.000000</td>\n",
       "      <td>70.000000</td>\n",
       "      <td>1.000000</td>\n",
       "      <td>3.0</td>\n",
       "      <td>-1.000000</td>\n",
       "      <td>0.000000</td>\n",
       "    </tr>\n",
       "    <tr>\n",
       "      <th>25%</th>\n",
       "      <td>0.000000</td>\n",
       "      <td>34.000000</td>\n",
       "      <td>77.000000</td>\n",
       "      <td>10.000000</td>\n",
       "      <td>3.0</td>\n",
       "      <td>-1.000000</td>\n",
       "      <td>1.000000</td>\n",
       "    </tr>\n",
       "    <tr>\n",
       "      <th>50%</th>\n",
       "      <td>1.000000</td>\n",
       "      <td>41.500000</td>\n",
       "      <td>83.000000</td>\n",
       "      <td>16.000000</td>\n",
       "      <td>3.0</td>\n",
       "      <td>-1.000000</td>\n",
       "      <td>1.000000</td>\n",
       "    </tr>\n",
       "    <tr>\n",
       "      <th>75%</th>\n",
       "      <td>1.000000</td>\n",
       "      <td>47.250000</td>\n",
       "      <td>97.250000</td>\n",
       "      <td>24.500000</td>\n",
       "      <td>3.0</td>\n",
       "      <td>3.000000</td>\n",
       "      <td>1.000000</td>\n",
       "    </tr>\n",
       "    <tr>\n",
       "      <th>max</th>\n",
       "      <td>1.000000</td>\n",
       "      <td>59.000000</td>\n",
       "      <td>137.000000</td>\n",
       "      <td>39.000000</td>\n",
       "      <td>3.0</td>\n",
       "      <td>3.000000</td>\n",
       "      <td>1.000000</td>\n",
       "    </tr>\n",
       "  </tbody>\n",
       "</table>\n",
       "</div>"
      ],
      "text/plain": [
       "          Gender        Age  Annual Income (k$)  Spending Score (1-100)  \\\n",
       "count  36.000000  36.000000           36.000000               36.000000   \n",
       "mean    0.527778  40.666667           87.750000               17.583333   \n",
       "std     0.506309  11.496583           16.387059               10.204691   \n",
       "min     0.000000  19.000000           70.000000                1.000000   \n",
       "25%     0.000000  34.000000           77.000000               10.000000   \n",
       "50%     1.000000  41.500000           83.000000               16.000000   \n",
       "75%     1.000000  47.250000           97.250000               24.500000   \n",
       "max     1.000000  59.000000          137.000000               39.000000   \n",
       "\n",
       "       Cluster_KMeans  Cluster_DBSCAN  Cluster_Agg  \n",
       "count            36.0       36.000000    36.000000  \n",
       "mean              3.0        0.333333     0.944444  \n",
       "std               0.0        1.912366     0.232311  \n",
       "min               3.0       -1.000000     0.000000  \n",
       "25%               3.0       -1.000000     1.000000  \n",
       "50%               3.0       -1.000000     1.000000  \n",
       "75%               3.0        3.000000     1.000000  \n",
       "max               3.0        3.000000     1.000000  "
      ]
     },
     "execution_count": 26,
     "metadata": {},
     "output_type": "execute_result"
    }
   ],
   "source": [
    "cluster_3 = df[df['Cluster_KMeans'] == 3]\n",
    "cluster_3.describe()"
   ]
  },
  {
   "cell_type": "code",
   "execution_count": 27,
   "id": "5403764b-6edd-41cf-a6f0-bfccd9428d65",
   "metadata": {
    "tags": []
   },
   "outputs": [],
   "source": [
    "# O cluster_3 composto de 36 elementos de ambos os sexos, com idade média 40.6 anos, renda anual média de 87.75(k$)\n",
    "# o Spending Score médio de 17.58 pontos"
   ]
  },
  {
   "cell_type": "code",
   "execution_count": 28,
   "id": "ad49aef2-0ff1-41f7-998f-a191a2d35b5c",
   "metadata": {
    "tags": []
   },
   "outputs": [
    {
     "data": {
      "text/html": [
       "<div>\n",
       "<style scoped>\n",
       "    .dataframe tbody tr th:only-of-type {\n",
       "        vertical-align: middle;\n",
       "    }\n",
       "\n",
       "    .dataframe tbody tr th {\n",
       "        vertical-align: top;\n",
       "    }\n",
       "\n",
       "    .dataframe thead th {\n",
       "        text-align: right;\n",
       "    }\n",
       "</style>\n",
       "<table border=\"1\" class=\"dataframe\">\n",
       "  <thead>\n",
       "    <tr style=\"text-align: right;\">\n",
       "      <th></th>\n",
       "      <th>Gender</th>\n",
       "      <th>Age</th>\n",
       "      <th>Annual Income (k$)</th>\n",
       "      <th>Spending Score (1-100)</th>\n",
       "      <th>Cluster_KMeans</th>\n",
       "      <th>Cluster_DBSCAN</th>\n",
       "      <th>Cluster_Agg</th>\n",
       "    </tr>\n",
       "  </thead>\n",
       "  <tbody>\n",
       "    <tr>\n",
       "      <th>count</th>\n",
       "      <td>23.000000</td>\n",
       "      <td>23.000000</td>\n",
       "      <td>23.000000</td>\n",
       "      <td>23.000000</td>\n",
       "      <td>23.0</td>\n",
       "      <td>23.000000</td>\n",
       "      <td>23.000000</td>\n",
       "    </tr>\n",
       "    <tr>\n",
       "      <th>mean</th>\n",
       "      <td>0.391304</td>\n",
       "      <td>25.521739</td>\n",
       "      <td>26.304348</td>\n",
       "      <td>78.565217</td>\n",
       "      <td>4.0</td>\n",
       "      <td>-0.304348</td>\n",
       "      <td>2.608696</td>\n",
       "    </tr>\n",
       "    <tr>\n",
       "      <th>std</th>\n",
       "      <td>0.499011</td>\n",
       "      <td>5.273170</td>\n",
       "      <td>7.893811</td>\n",
       "      <td>10.953729</td>\n",
       "      <td>0.0</td>\n",
       "      <td>0.470472</td>\n",
       "      <td>1.033051</td>\n",
       "    </tr>\n",
       "    <tr>\n",
       "      <th>min</th>\n",
       "      <td>0.000000</td>\n",
       "      <td>18.000000</td>\n",
       "      <td>15.000000</td>\n",
       "      <td>61.000000</td>\n",
       "      <td>4.0</td>\n",
       "      <td>-1.000000</td>\n",
       "      <td>0.000000</td>\n",
       "    </tr>\n",
       "    <tr>\n",
       "      <th>25%</th>\n",
       "      <td>0.000000</td>\n",
       "      <td>21.500000</td>\n",
       "      <td>19.500000</td>\n",
       "      <td>73.000000</td>\n",
       "      <td>4.0</td>\n",
       "      <td>-1.000000</td>\n",
       "      <td>3.000000</td>\n",
       "    </tr>\n",
       "    <tr>\n",
       "      <th>50%</th>\n",
       "      <td>0.000000</td>\n",
       "      <td>24.000000</td>\n",
       "      <td>25.000000</td>\n",
       "      <td>77.000000</td>\n",
       "      <td>4.0</td>\n",
       "      <td>0.000000</td>\n",
       "      <td>3.000000</td>\n",
       "    </tr>\n",
       "    <tr>\n",
       "      <th>75%</th>\n",
       "      <td>1.000000</td>\n",
       "      <td>30.000000</td>\n",
       "      <td>33.000000</td>\n",
       "      <td>84.500000</td>\n",
       "      <td>4.0</td>\n",
       "      <td>0.000000</td>\n",
       "      <td>3.000000</td>\n",
       "    </tr>\n",
       "    <tr>\n",
       "      <th>max</th>\n",
       "      <td>1.000000</td>\n",
       "      <td>35.000000</td>\n",
       "      <td>39.000000</td>\n",
       "      <td>99.000000</td>\n",
       "      <td>4.0</td>\n",
       "      <td>0.000000</td>\n",
       "      <td>3.000000</td>\n",
       "    </tr>\n",
       "  </tbody>\n",
       "</table>\n",
       "</div>"
      ],
      "text/plain": [
       "          Gender        Age  Annual Income (k$)  Spending Score (1-100)  \\\n",
       "count  23.000000  23.000000           23.000000               23.000000   \n",
       "mean    0.391304  25.521739           26.304348               78.565217   \n",
       "std     0.499011   5.273170            7.893811               10.953729   \n",
       "min     0.000000  18.000000           15.000000               61.000000   \n",
       "25%     0.000000  21.500000           19.500000               73.000000   \n",
       "50%     0.000000  24.000000           25.000000               77.000000   \n",
       "75%     1.000000  30.000000           33.000000               84.500000   \n",
       "max     1.000000  35.000000           39.000000               99.000000   \n",
       "\n",
       "       Cluster_KMeans  Cluster_DBSCAN  Cluster_Agg  \n",
       "count            23.0       23.000000    23.000000  \n",
       "mean              4.0       -0.304348     2.608696  \n",
       "std               0.0        0.470472     1.033051  \n",
       "min               4.0       -1.000000     0.000000  \n",
       "25%               4.0       -1.000000     3.000000  \n",
       "50%               4.0        0.000000     3.000000  \n",
       "75%               4.0        0.000000     3.000000  \n",
       "max               4.0        0.000000     3.000000  "
      ]
     },
     "execution_count": 28,
     "metadata": {},
     "output_type": "execute_result"
    }
   ],
   "source": [
    "cluster_4 = df[df['Cluster_KMeans'] == 4]\n",
    "cluster_4.describe()"
   ]
  },
  {
   "cell_type": "code",
   "execution_count": 29,
   "id": "3f0b357d-2fc8-46b1-b29a-4a76a5385969",
   "metadata": {
    "tags": []
   },
   "outputs": [],
   "source": [
    "# O cluster_4 composto de 23 elementos, de ambos sexos, com idade média 25 anos, renda anual média de 26.3 (k$).\n",
    "# O Spending Score médio de 78.56"
   ]
  },
  {
   "cell_type": "markdown",
   "id": "975b00ed-2139-4b5c-97e7-0d97af754523",
   "metadata": {
    "tags": []
   },
   "source": [
    "Respondendo as questões:\n",
    "1) Número de perfis de clientes segmentados;\n",
    "   - Foram seguimentados cinco perfis de clientes.\n",
    "2) Principais características dos clientes segmentados;\n",
    "   - O cluster_0 composto de 23 elementos, de ambos sexos, com idade média 45.2 anos, renda anual média de 26.3 k$. O Spending Score médio de 20.9.\n",
    "   \n",
    "   - O cluster_1 composto de 39 elementos, de ambos sexos, com idade média 32.6 anos, renda anual média de 86.53 k$. O Spending Score médio de 82.12.\n",
    "   \n",
    "   - O cluster_2 composto de 79 elementos, de ambos sexos, com idade média 43 anos, renda anual média de 55.29 k$.O Spending Score médio de 49.56.\n",
    "   \n",
    "   - O cluster_3 composto de 36 elementos de ambos os sexos, com idade média 40.6 anos, renda anual média de 87.75 k$.O Spending Score médio de 17.58 pontos\n",
    "   \n",
    "   - O cluster_4 composto de 23 elementos, de ambos sexos, com idade média 25 anos, renda anual média de 26.3 k$.O Spending Score médio de 78.56\n",
    "3) Perfil dos clientes maioritários e minoritários / qual o perfil mais dominante e menos dominante;\n",
    "    - O perfil dos clientes maioritários, é o perfil do cluster_2 com 79 elementos, já os minoritários temos  cluster_0 e o cluster_4 com 23 elementos.\n",
    "4) Existem clusters bem separados ou onde a sua diferenciação não é tão clara?\n",
    "    - Sim os clusters estão bem separados, exceto o cluster_2 que faz fronteira com todos os demais clusters, em que os elementos na sua extremidade dependendo da métrica pode ser avaliado de outro cluster. "
   ]
  },
  {
   "cell_type": "markdown",
   "id": "a1edeaac-1426-4536-b001-bc0edd89b8f1",
   "metadata": {
    "tags": []
   },
   "source": [
    "Usando Collaborative\n",
    "Filtering, quer CF baseado em items ou Fatorização de Matrizes, escolha 3 utilizadores e faça a\n",
    "sugestão de um top 5 de anedotas por utilizador. Tenham em consideração que os utilizadores\n",
    "escolhidos devem ter gostos por tipos de anedotas diferentes. Justifiquem a escolha dos utilizadores.\n",
    "Desta maneira será possível avaliar se as anedotas sugeridas realmente foram bem-sucedidas.\n",
    "Adicionalmente, descrevam a abordagem escolhida para recomendação de anedotas e justifiquem o\n",
    "porquê dessa abordagem ser a melhor neste contexto."
   ]
  },
  {
   "cell_type": "code",
   "execution_count": 30,
   "id": "10250ab1-f44d-4cf2-9037-ad33f7c09e0e",
   "metadata": {
    "tags": []
   },
   "outputs": [],
   "source": [
    "from sklearn.model_selection import train_test_split\n",
    "from sklearn.metrics import mean_squared_error\n",
    "from sklearn.decomposition import TruncatedSVD"
   ]
  },
  {
   "cell_type": "code",
   "execution_count": 31,
   "id": "b0e771dd-e6dc-4c33-89eb-afa97168df5b",
   "metadata": {},
   "outputs": [],
   "source": [
    "ratings = pd.read_csv('ratings.csv')\n",
    "items = pd.read_csv('items.csv')"
   ]
  },
  {
   "cell_type": "code",
   "execution_count": 32,
   "id": "5fa1b8a2-ebd4-405d-ace5-0e81c6df3c36",
   "metadata": {
    "tags": []
   },
   "outputs": [
    {
     "data": {
      "text/html": [
       "<div>\n",
       "<style scoped>\n",
       "    .dataframe tbody tr th:only-of-type {\n",
       "        vertical-align: middle;\n",
       "    }\n",
       "\n",
       "    .dataframe tbody tr th {\n",
       "        vertical-align: top;\n",
       "    }\n",
       "\n",
       "    .dataframe thead th {\n",
       "        text-align: right;\n",
       "    }\n",
       "</style>\n",
       "<table border=\"1\" class=\"dataframe\">\n",
       "  <thead>\n",
       "    <tr style=\"text-align: right;\">\n",
       "      <th></th>\n",
       "      <th>jokeId</th>\n",
       "      <th>jokeText</th>\n",
       "    </tr>\n",
       "  </thead>\n",
       "  <tbody>\n",
       "    <tr>\n",
       "      <th>0</th>\n",
       "      <td>1</td>\n",
       "      <td>A man visits the doctor. The doctor says \"I ha...</td>\n",
       "    </tr>\n",
       "    <tr>\n",
       "      <th>1</th>\n",
       "      <td>2</td>\n",
       "      <td>This couple had an excellent relationship goin...</td>\n",
       "    </tr>\n",
       "    <tr>\n",
       "      <th>2</th>\n",
       "      <td>3</td>\n",
       "      <td>Q. What's 200 feet long and has 4 teeth? \\n\\nA...</td>\n",
       "    </tr>\n",
       "    <tr>\n",
       "      <th>3</th>\n",
       "      <td>4</td>\n",
       "      <td>Q. What's the difference between a man and a t...</td>\n",
       "    </tr>\n",
       "    <tr>\n",
       "      <th>4</th>\n",
       "      <td>5</td>\n",
       "      <td>Q.\\tWhat's O. J. Simpson's Internet address? \\...</td>\n",
       "    </tr>\n",
       "    <tr>\n",
       "      <th>...</th>\n",
       "      <td>...</td>\n",
       "      <td>...</td>\n",
       "    </tr>\n",
       "    <tr>\n",
       "      <th>145</th>\n",
       "      <td>146</td>\n",
       "      <td>America: 8:00 - Welcome to work! 12:00 - Lunch...</td>\n",
       "    </tr>\n",
       "    <tr>\n",
       "      <th>146</th>\n",
       "      <td>147</td>\n",
       "      <td>It was the day of the big sale. Rumors of the ...</td>\n",
       "    </tr>\n",
       "    <tr>\n",
       "      <th>147</th>\n",
       "      <td>148</td>\n",
       "      <td>Recently a teacher, a garbage collector, and a...</td>\n",
       "    </tr>\n",
       "    <tr>\n",
       "      <th>148</th>\n",
       "      <td>149</td>\n",
       "      <td>A little girl asked her father, \"Daddy? Do all...</td>\n",
       "    </tr>\n",
       "    <tr>\n",
       "      <th>149</th>\n",
       "      <td>150</td>\n",
       "      <td>In an interview with David Letterman, Carter p...</td>\n",
       "    </tr>\n",
       "  </tbody>\n",
       "</table>\n",
       "<p>150 rows × 2 columns</p>\n",
       "</div>"
      ],
      "text/plain": [
       "     jokeId                                           jokeText\n",
       "0         1  A man visits the doctor. The doctor says \"I ha...\n",
       "1         2  This couple had an excellent relationship goin...\n",
       "2         3  Q. What's 200 feet long and has 4 teeth? \\n\\nA...\n",
       "3         4  Q. What's the difference between a man and a t...\n",
       "4         5  Q.\\tWhat's O. J. Simpson's Internet address? \\...\n",
       "..      ...                                                ...\n",
       "145     146  America: 8:00 - Welcome to work! 12:00 - Lunch...\n",
       "146     147  It was the day of the big sale. Rumors of the ...\n",
       "147     148  Recently a teacher, a garbage collector, and a...\n",
       "148     149  A little girl asked her father, \"Daddy? Do all...\n",
       "149     150  In an interview with David Letterman, Carter p...\n",
       "\n",
       "[150 rows x 2 columns]"
      ]
     },
     "execution_count": 32,
     "metadata": {},
     "output_type": "execute_result"
    }
   ],
   "source": [
    "items"
   ]
  },
  {
   "cell_type": "code",
   "execution_count": 33,
   "id": "6816a866-ce1b-45b2-b50b-2881f48bc23b",
   "metadata": {
    "tags": []
   },
   "outputs": [
    {
     "data": {
      "text/html": [
       "<div>\n",
       "<style scoped>\n",
       "    .dataframe tbody tr th:only-of-type {\n",
       "        vertical-align: middle;\n",
       "    }\n",
       "\n",
       "    .dataframe tbody tr th {\n",
       "        vertical-align: top;\n",
       "    }\n",
       "\n",
       "    .dataframe thead th {\n",
       "        text-align: right;\n",
       "    }\n",
       "</style>\n",
       "<table border=\"1\" class=\"dataframe\">\n",
       "  <thead>\n",
       "    <tr style=\"text-align: right;\">\n",
       "      <th></th>\n",
       "      <th>userId</th>\n",
       "      <th>jokeId</th>\n",
       "      <th>rating</th>\n",
       "    </tr>\n",
       "  </thead>\n",
       "  <tbody>\n",
       "    <tr>\n",
       "      <th>0</th>\n",
       "      <td>1</td>\n",
       "      <td>5</td>\n",
       "      <td>0.219</td>\n",
       "    </tr>\n",
       "    <tr>\n",
       "      <th>1</th>\n",
       "      <td>1</td>\n",
       "      <td>7</td>\n",
       "      <td>-9.281</td>\n",
       "    </tr>\n",
       "    <tr>\n",
       "      <th>2</th>\n",
       "      <td>1</td>\n",
       "      <td>8</td>\n",
       "      <td>-9.281</td>\n",
       "    </tr>\n",
       "    <tr>\n",
       "      <th>3</th>\n",
       "      <td>1</td>\n",
       "      <td>13</td>\n",
       "      <td>-6.781</td>\n",
       "    </tr>\n",
       "    <tr>\n",
       "      <th>4</th>\n",
       "      <td>1</td>\n",
       "      <td>15</td>\n",
       "      <td>0.875</td>\n",
       "    </tr>\n",
       "    <tr>\n",
       "      <th>...</th>\n",
       "      <td>...</td>\n",
       "      <td>...</td>\n",
       "      <td>...</td>\n",
       "    </tr>\n",
       "    <tr>\n",
       "      <th>1761434</th>\n",
       "      <td>63978</td>\n",
       "      <td>57</td>\n",
       "      <td>-8.531</td>\n",
       "    </tr>\n",
       "    <tr>\n",
       "      <th>1761435</th>\n",
       "      <td>63978</td>\n",
       "      <td>24</td>\n",
       "      <td>-9.062</td>\n",
       "    </tr>\n",
       "    <tr>\n",
       "      <th>1761436</th>\n",
       "      <td>63978</td>\n",
       "      <td>124</td>\n",
       "      <td>-9.031</td>\n",
       "    </tr>\n",
       "    <tr>\n",
       "      <th>1761437</th>\n",
       "      <td>63978</td>\n",
       "      <td>58</td>\n",
       "      <td>-8.656</td>\n",
       "    </tr>\n",
       "    <tr>\n",
       "      <th>1761438</th>\n",
       "      <td>63978</td>\n",
       "      <td>44</td>\n",
       "      <td>-8.438</td>\n",
       "    </tr>\n",
       "  </tbody>\n",
       "</table>\n",
       "<p>1761439 rows × 3 columns</p>\n",
       "</div>"
      ],
      "text/plain": [
       "         userId  jokeId  rating\n",
       "0             1       5   0.219\n",
       "1             1       7  -9.281\n",
       "2             1       8  -9.281\n",
       "3             1      13  -6.781\n",
       "4             1      15   0.875\n",
       "...         ...     ...     ...\n",
       "1761434   63978      57  -8.531\n",
       "1761435   63978      24  -9.062\n",
       "1761436   63978     124  -9.031\n",
       "1761437   63978      58  -8.656\n",
       "1761438   63978      44  -8.438\n",
       "\n",
       "[1761439 rows x 3 columns]"
      ]
     },
     "execution_count": 33,
     "metadata": {},
     "output_type": "execute_result"
    }
   ],
   "source": [
    "ratings"
   ]
  },
  {
   "cell_type": "code",
   "execution_count": 34,
   "id": "7f70b5b5-214a-4190-9335-f0e328216e87",
   "metadata": {
    "tags": []
   },
   "outputs": [
    {
     "data": {
      "text/plain": [
       "userId    5.763995e+10\n",
       "jokeId    1.245537e+08\n",
       "rating    2.851069e+06\n",
       "dtype: float64"
      ]
     },
     "execution_count": 34,
     "metadata": {},
     "output_type": "execute_result"
    }
   ],
   "source": [
    "ratings.sum()"
   ]
  },
  {
   "cell_type": "code",
   "execution_count": 35,
   "id": "60d6a35a-679a-439c-8c36-356f31798ba8",
   "metadata": {
    "tags": []
   },
   "outputs": [],
   "source": [
    "# Preparar a Matriz\n",
    "user_item_matrix = ratings.pivot(index='userId', columns='jokeId', values='rating').fillna(0)"
   ]
  },
  {
   "cell_type": "code",
   "execution_count": 36,
   "id": "15a76f3c-23ed-493f-a81c-5920aafa2ddd",
   "metadata": {
    "tags": []
   },
   "outputs": [
    {
     "data": {
      "text/html": [
       "<div>\n",
       "<style scoped>\n",
       "    .dataframe tbody tr th:only-of-type {\n",
       "        vertical-align: middle;\n",
       "    }\n",
       "\n",
       "    .dataframe tbody tr th {\n",
       "        vertical-align: top;\n",
       "    }\n",
       "\n",
       "    .dataframe thead th {\n",
       "        text-align: right;\n",
       "    }\n",
       "</style>\n",
       "<table border=\"1\" class=\"dataframe\">\n",
       "  <thead>\n",
       "    <tr style=\"text-align: right;\">\n",
       "      <th>jokeId</th>\n",
       "      <th>5</th>\n",
       "      <th>7</th>\n",
       "      <th>8</th>\n",
       "      <th>13</th>\n",
       "      <th>15</th>\n",
       "      <th>16</th>\n",
       "      <th>17</th>\n",
       "      <th>18</th>\n",
       "      <th>19</th>\n",
       "      <th>20</th>\n",
       "      <th>...</th>\n",
       "      <th>141</th>\n",
       "      <th>142</th>\n",
       "      <th>143</th>\n",
       "      <th>144</th>\n",
       "      <th>145</th>\n",
       "      <th>146</th>\n",
       "      <th>147</th>\n",
       "      <th>148</th>\n",
       "      <th>149</th>\n",
       "      <th>150</th>\n",
       "    </tr>\n",
       "    <tr>\n",
       "      <th>userId</th>\n",
       "      <th></th>\n",
       "      <th></th>\n",
       "      <th></th>\n",
       "      <th></th>\n",
       "      <th></th>\n",
       "      <th></th>\n",
       "      <th></th>\n",
       "      <th></th>\n",
       "      <th></th>\n",
       "      <th></th>\n",
       "      <th></th>\n",
       "      <th></th>\n",
       "      <th></th>\n",
       "      <th></th>\n",
       "      <th></th>\n",
       "      <th></th>\n",
       "      <th></th>\n",
       "      <th></th>\n",
       "      <th></th>\n",
       "      <th></th>\n",
       "      <th></th>\n",
       "    </tr>\n",
       "  </thead>\n",
       "  <tbody>\n",
       "    <tr>\n",
       "      <th>1</th>\n",
       "      <td>0.219</td>\n",
       "      <td>-9.281</td>\n",
       "      <td>-9.281</td>\n",
       "      <td>-6.781</td>\n",
       "      <td>0.875</td>\n",
       "      <td>-9.656</td>\n",
       "      <td>-9.031</td>\n",
       "      <td>-7.469</td>\n",
       "      <td>-8.719</td>\n",
       "      <td>-9.156</td>\n",
       "      <td>...</td>\n",
       "      <td>0.000</td>\n",
       "      <td>0.000</td>\n",
       "      <td>0.000</td>\n",
       "      <td>0.0</td>\n",
       "      <td>0.000</td>\n",
       "      <td>0.000</td>\n",
       "      <td>0.000</td>\n",
       "      <td>0.000</td>\n",
       "      <td>0.000</td>\n",
       "      <td>0.000</td>\n",
       "    </tr>\n",
       "    <tr>\n",
       "      <th>2</th>\n",
       "      <td>-9.688</td>\n",
       "      <td>9.938</td>\n",
       "      <td>9.531</td>\n",
       "      <td>9.938</td>\n",
       "      <td>0.406</td>\n",
       "      <td>3.719</td>\n",
       "      <td>9.656</td>\n",
       "      <td>-2.688</td>\n",
       "      <td>-9.562</td>\n",
       "      <td>-9.125</td>\n",
       "      <td>...</td>\n",
       "      <td>0.000</td>\n",
       "      <td>0.000</td>\n",
       "      <td>0.000</td>\n",
       "      <td>0.0</td>\n",
       "      <td>0.000</td>\n",
       "      <td>0.000</td>\n",
       "      <td>0.000</td>\n",
       "      <td>0.000</td>\n",
       "      <td>0.000</td>\n",
       "      <td>0.000</td>\n",
       "    </tr>\n",
       "    <tr>\n",
       "      <th>3</th>\n",
       "      <td>-9.844</td>\n",
       "      <td>-9.844</td>\n",
       "      <td>-7.219</td>\n",
       "      <td>-2.031</td>\n",
       "      <td>-9.938</td>\n",
       "      <td>-9.969</td>\n",
       "      <td>-9.875</td>\n",
       "      <td>-9.812</td>\n",
       "      <td>-9.781</td>\n",
       "      <td>-6.844</td>\n",
       "      <td>...</td>\n",
       "      <td>0.000</td>\n",
       "      <td>0.000</td>\n",
       "      <td>0.000</td>\n",
       "      <td>0.0</td>\n",
       "      <td>0.000</td>\n",
       "      <td>0.000</td>\n",
       "      <td>0.000</td>\n",
       "      <td>0.000</td>\n",
       "      <td>0.000</td>\n",
       "      <td>0.000</td>\n",
       "    </tr>\n",
       "    <tr>\n",
       "      <th>4</th>\n",
       "      <td>-5.812</td>\n",
       "      <td>-4.500</td>\n",
       "      <td>-4.906</td>\n",
       "      <td>0.000</td>\n",
       "      <td>0.000</td>\n",
       "      <td>0.000</td>\n",
       "      <td>0.000</td>\n",
       "      <td>0.000</td>\n",
       "      <td>0.000</td>\n",
       "      <td>0.000</td>\n",
       "      <td>...</td>\n",
       "      <td>0.000</td>\n",
       "      <td>0.000</td>\n",
       "      <td>0.000</td>\n",
       "      <td>0.0</td>\n",
       "      <td>0.000</td>\n",
       "      <td>0.000</td>\n",
       "      <td>0.000</td>\n",
       "      <td>0.000</td>\n",
       "      <td>0.000</td>\n",
       "      <td>0.000</td>\n",
       "    </tr>\n",
       "    <tr>\n",
       "      <th>5</th>\n",
       "      <td>6.906</td>\n",
       "      <td>4.750</td>\n",
       "      <td>-5.906</td>\n",
       "      <td>-0.406</td>\n",
       "      <td>-4.031</td>\n",
       "      <td>3.875</td>\n",
       "      <td>6.219</td>\n",
       "      <td>5.656</td>\n",
       "      <td>6.094</td>\n",
       "      <td>5.406</td>\n",
       "      <td>...</td>\n",
       "      <td>0.000</td>\n",
       "      <td>0.000</td>\n",
       "      <td>0.000</td>\n",
       "      <td>0.0</td>\n",
       "      <td>0.000</td>\n",
       "      <td>0.000</td>\n",
       "      <td>0.000</td>\n",
       "      <td>0.000</td>\n",
       "      <td>0.000</td>\n",
       "      <td>0.000</td>\n",
       "    </tr>\n",
       "    <tr>\n",
       "      <th>...</th>\n",
       "      <td>...</td>\n",
       "      <td>...</td>\n",
       "      <td>...</td>\n",
       "      <td>...</td>\n",
       "      <td>...</td>\n",
       "      <td>...</td>\n",
       "      <td>...</td>\n",
       "      <td>...</td>\n",
       "      <td>...</td>\n",
       "      <td>...</td>\n",
       "      <td>...</td>\n",
       "      <td>...</td>\n",
       "      <td>...</td>\n",
       "      <td>...</td>\n",
       "      <td>...</td>\n",
       "      <td>...</td>\n",
       "      <td>...</td>\n",
       "      <td>...</td>\n",
       "      <td>...</td>\n",
       "      <td>...</td>\n",
       "      <td>...</td>\n",
       "    </tr>\n",
       "    <tr>\n",
       "      <th>63974</th>\n",
       "      <td>0.000</td>\n",
       "      <td>-4.438</td>\n",
       "      <td>1.531</td>\n",
       "      <td>-1.438</td>\n",
       "      <td>-9.156</td>\n",
       "      <td>-7.438</td>\n",
       "      <td>2.250</td>\n",
       "      <td>3.750</td>\n",
       "      <td>5.000</td>\n",
       "      <td>0.000</td>\n",
       "      <td>...</td>\n",
       "      <td>0.000</td>\n",
       "      <td>0.000</td>\n",
       "      <td>0.000</td>\n",
       "      <td>0.0</td>\n",
       "      <td>0.000</td>\n",
       "      <td>0.000</td>\n",
       "      <td>0.000</td>\n",
       "      <td>0.000</td>\n",
       "      <td>0.000</td>\n",
       "      <td>0.000</td>\n",
       "    </tr>\n",
       "    <tr>\n",
       "      <th>63975</th>\n",
       "      <td>0.000</td>\n",
       "      <td>0.625</td>\n",
       "      <td>4.531</td>\n",
       "      <td>4.969</td>\n",
       "      <td>-3.375</td>\n",
       "      <td>-8.250</td>\n",
       "      <td>-7.781</td>\n",
       "      <td>-9.188</td>\n",
       "      <td>1.500</td>\n",
       "      <td>0.000</td>\n",
       "      <td>...</td>\n",
       "      <td>0.000</td>\n",
       "      <td>0.000</td>\n",
       "      <td>0.000</td>\n",
       "      <td>0.0</td>\n",
       "      <td>0.000</td>\n",
       "      <td>0.000</td>\n",
       "      <td>0.000</td>\n",
       "      <td>0.000</td>\n",
       "      <td>0.000</td>\n",
       "      <td>0.000</td>\n",
       "    </tr>\n",
       "    <tr>\n",
       "      <th>63976</th>\n",
       "      <td>0.000</td>\n",
       "      <td>-7.250</td>\n",
       "      <td>4.562</td>\n",
       "      <td>-5.594</td>\n",
       "      <td>0.000</td>\n",
       "      <td>0.000</td>\n",
       "      <td>0.000</td>\n",
       "      <td>0.000</td>\n",
       "      <td>0.000</td>\n",
       "      <td>0.000</td>\n",
       "      <td>...</td>\n",
       "      <td>0.000</td>\n",
       "      <td>0.000</td>\n",
       "      <td>0.000</td>\n",
       "      <td>0.0</td>\n",
       "      <td>0.000</td>\n",
       "      <td>0.000</td>\n",
       "      <td>0.000</td>\n",
       "      <td>0.000</td>\n",
       "      <td>0.000</td>\n",
       "      <td>0.000</td>\n",
       "    </tr>\n",
       "    <tr>\n",
       "      <th>63977</th>\n",
       "      <td>0.000</td>\n",
       "      <td>-8.531</td>\n",
       "      <td>-8.438</td>\n",
       "      <td>-9.625</td>\n",
       "      <td>6.594</td>\n",
       "      <td>-6.250</td>\n",
       "      <td>9.312</td>\n",
       "      <td>-2.750</td>\n",
       "      <td>6.344</td>\n",
       "      <td>0.000</td>\n",
       "      <td>...</td>\n",
       "      <td>0.000</td>\n",
       "      <td>0.000</td>\n",
       "      <td>0.000</td>\n",
       "      <td>0.0</td>\n",
       "      <td>0.000</td>\n",
       "      <td>0.000</td>\n",
       "      <td>0.000</td>\n",
       "      <td>0.000</td>\n",
       "      <td>0.000</td>\n",
       "      <td>0.000</td>\n",
       "    </tr>\n",
       "    <tr>\n",
       "      <th>63978</th>\n",
       "      <td>0.000</td>\n",
       "      <td>-7.906</td>\n",
       "      <td>-7.594</td>\n",
       "      <td>-7.594</td>\n",
       "      <td>-6.375</td>\n",
       "      <td>-6.375</td>\n",
       "      <td>-6.375</td>\n",
       "      <td>-6.375</td>\n",
       "      <td>-1.812</td>\n",
       "      <td>0.000</td>\n",
       "      <td>...</td>\n",
       "      <td>-8.312</td>\n",
       "      <td>7.844</td>\n",
       "      <td>8.906</td>\n",
       "      <td>8.5</td>\n",
       "      <td>8.375</td>\n",
       "      <td>8.938</td>\n",
       "      <td>8.281</td>\n",
       "      <td>8.781</td>\n",
       "      <td>8.781</td>\n",
       "      <td>7.562</td>\n",
       "    </tr>\n",
       "  </tbody>\n",
       "</table>\n",
       "<p>59132 rows × 140 columns</p>\n",
       "</div>"
      ],
      "text/plain": [
       "jokeId    5      7      8      13     15     16     17     18     19     20   \\\n",
       "userId                                                                         \n",
       "1       0.219 -9.281 -9.281 -6.781  0.875 -9.656 -9.031 -7.469 -8.719 -9.156   \n",
       "2      -9.688  9.938  9.531  9.938  0.406  3.719  9.656 -2.688 -9.562 -9.125   \n",
       "3      -9.844 -9.844 -7.219 -2.031 -9.938 -9.969 -9.875 -9.812 -9.781 -6.844   \n",
       "4      -5.812 -4.500 -4.906  0.000  0.000  0.000  0.000  0.000  0.000  0.000   \n",
       "5       6.906  4.750 -5.906 -0.406 -4.031  3.875  6.219  5.656  6.094  5.406   \n",
       "...       ...    ...    ...    ...    ...    ...    ...    ...    ...    ...   \n",
       "63974   0.000 -4.438  1.531 -1.438 -9.156 -7.438  2.250  3.750  5.000  0.000   \n",
       "63975   0.000  0.625  4.531  4.969 -3.375 -8.250 -7.781 -9.188  1.500  0.000   \n",
       "63976   0.000 -7.250  4.562 -5.594  0.000  0.000  0.000  0.000  0.000  0.000   \n",
       "63977   0.000 -8.531 -8.438 -9.625  6.594 -6.250  9.312 -2.750  6.344  0.000   \n",
       "63978   0.000 -7.906 -7.594 -7.594 -6.375 -6.375 -6.375 -6.375 -1.812  0.000   \n",
       "\n",
       "jokeId  ...    141    142    143  144    145    146    147    148    149  \\\n",
       "userId  ...                                                                \n",
       "1       ...  0.000  0.000  0.000  0.0  0.000  0.000  0.000  0.000  0.000   \n",
       "2       ...  0.000  0.000  0.000  0.0  0.000  0.000  0.000  0.000  0.000   \n",
       "3       ...  0.000  0.000  0.000  0.0  0.000  0.000  0.000  0.000  0.000   \n",
       "4       ...  0.000  0.000  0.000  0.0  0.000  0.000  0.000  0.000  0.000   \n",
       "5       ...  0.000  0.000  0.000  0.0  0.000  0.000  0.000  0.000  0.000   \n",
       "...     ...    ...    ...    ...  ...    ...    ...    ...    ...    ...   \n",
       "63974   ...  0.000  0.000  0.000  0.0  0.000  0.000  0.000  0.000  0.000   \n",
       "63975   ...  0.000  0.000  0.000  0.0  0.000  0.000  0.000  0.000  0.000   \n",
       "63976   ...  0.000  0.000  0.000  0.0  0.000  0.000  0.000  0.000  0.000   \n",
       "63977   ...  0.000  0.000  0.000  0.0  0.000  0.000  0.000  0.000  0.000   \n",
       "63978   ... -8.312  7.844  8.906  8.5  8.375  8.938  8.281  8.781  8.781   \n",
       "\n",
       "jokeId    150  \n",
       "userId         \n",
       "1       0.000  \n",
       "2       0.000  \n",
       "3       0.000  \n",
       "4       0.000  \n",
       "5       0.000  \n",
       "...       ...  \n",
       "63974   0.000  \n",
       "63975   0.000  \n",
       "63976   0.000  \n",
       "63977   0.000  \n",
       "63978   7.562  \n",
       "\n",
       "[59132 rows x 140 columns]"
      ]
     },
     "execution_count": 36,
     "metadata": {},
     "output_type": "execute_result"
    }
   ],
   "source": [
    "user_item_matrix"
   ]
  },
  {
   "cell_type": "code",
   "execution_count": 37,
   "id": "17df28a0-b205-477a-994e-8b6e85ff4c41",
   "metadata": {
    "tags": []
   },
   "outputs": [],
   "source": [
    "train_data, test_data = train_test_split(user_item_matrix, test_size=0.2, random_state=0)"
   ]
  },
  {
   "cell_type": "code",
   "execution_count": 38,
   "id": "7353cdbd-2699-4c02-84fa-d63d576434cc",
   "metadata": {
    "tags": []
   },
   "outputs": [
    {
     "data": {
      "text/plain": [
       "TruncatedSVD(n_components=50)"
      ]
     },
     "execution_count": 38,
     "metadata": {},
     "output_type": "execute_result"
    }
   ],
   "source": [
    "svd = TruncatedSVD(n_components=50)\n",
    "svd.fit(train_data)"
   ]
  },
  {
   "cell_type": "code",
   "execution_count": 39,
   "id": "c73ce3d9-9afd-4eeb-8908-e5ca74c526f1",
   "metadata": {
    "tags": []
   },
   "outputs": [],
   "source": [
    "user_factors = svd.transform(train_data)\n",
    "item_factors = svd.components_"
   ]
  },
  {
   "cell_type": "code",
   "execution_count": 40,
   "id": "36f0cf36-2a2c-4735-b644-5c630c06ca78",
   "metadata": {
    "tags": []
   },
   "outputs": [
    {
     "name": "stdout",
     "output_type": "stream",
     "text": [
      "Selected users: [37677, 30022, 16130]\n"
     ]
    }
   ],
   "source": [
    "# Calcular a média dos ratings por utilizador\n",
    "user_mean_ratings = ratings.groupby('userId')['rating'].mean().sort_values()\n",
    "\n",
    "# Selecionar 3 utilizadores de diferentes quantis (baixo, médio, alto)\n",
    "quantiles = user_mean_ratings.quantile([0.25, 0.5, 0.75])\n",
    "low_user = user_mean_ratings[user_mean_ratings <= quantiles[0.25]].index[0]\n",
    "mid_user = user_mean_ratings[(user_mean_ratings > quantiles[0.25]) & (user_mean_ratings <= quantiles[0.75])].index[0]\n",
    "high_user = user_mean_ratings[user_mean_ratings > quantiles[0.75]].index[0]\n",
    "\n",
    "selected_users = [low_user, mid_user, high_user]\n",
    "print(f'Selected users: {selected_users}')\n"
   ]
  },
  {
   "cell_type": "code",
   "execution_count": 41,
   "id": "1f5382e9-5582-47e7-831c-e5ccc539519f",
   "metadata": {
    "tags": []
   },
   "outputs": [],
   "source": [
    "top_n = 5  "
   ]
  },
  {
   "cell_type": "code",
   "execution_count": 42,
   "id": "a70434c0-9555-4fbe-b3a2-3f625c3423bc",
   "metadata": {
    "tags": []
   },
   "outputs": [],
   "source": [
    "recommendations = {}\n",
    "for user_id in selected_users:\n",
    "    if user_id in user_item_matrix.index:\n",
    "        user_index = user_item_matrix.index.get_loc(user_id)\n",
    "        user_ratings = np.dot(user_factors[user_index, :], item_factors)\n",
    "        top_items = np.argsort(user_ratings)[::-1][:top_n]\n",
    "        recommendations[user_id] = top_items\n",
    "    else:\n",
    "        print(f\"Usuário ID {user_id} não encontrado!\")"
   ]
  },
  {
   "cell_type": "code",
   "execution_count": 43,
   "id": "fae8921d-27f6-44be-872b-cabcad245d34",
   "metadata": {
    "tags": []
   },
   "outputs": [
    {
     "name": "stdout",
     "output_type": "stream",
     "text": [
      "Recommendations for user 37677:\n",
      "Nurse: Doctor, Doctor, there's an invisible man in the waiting room! Doctor: Well, go in there and tell him that I can't see him!\n",
      "A man in a hot air balloon realized he was lost. He reduced altitude and spotted a woman below. He descended a bit more and shouted, \"Excuse me, can you help me? I promised a friend I would meet him an hour ago, but I don't know where I am.\" The woman below replied, \"You are in a hot air balloon hovering approximately 30 feet above the ground. You are between 40 and 41 degrees north latitude and between 59 and 60 degrees west longitude.\" \"You must be an engineer,\" said the balloonist. \"I am,\" replied the woman. \"How did you know?\" \"Well,\" answered the balloonist, \"everything you told me is technically correct, but I have no idea what to make of your information, and the fact is, I am still lost. Frankly, you've not been much help so far.\" The woman below responded, \"You must be in management.\" \"I am,\" replied the balloonist, \"but how did you know?\" \"Well,\" said the woman, \"you don't know where you are or where you are going. You have risen to where you are due to a large quantity of hot air. You made a promise that you have no idea how to keep, and you expect people beneath you to solve your problems. The fact is, you are in exactly the same position you were in before we met, but now, somehow, it's my fault!\"\n",
      "A little boy goes to his dad and asks, \"What is politics?\" His dad says, \"Well son, let me try to explain it this way: I'm the breadwinner of the family, so let's call me capitalism. Your Mom, she's the administrator of the money, so we'll call her the government. We're here to take care of your needs, so we'll call you the people. The nanny, we'll consider her the working class. And your baby brother, we'll call him the future. Now, think about that and see if that makes sense.\" So the little boy goes off to bed thinking about what dad had said. Later that night, he hears his baby brother crying, so he gets up to check on him. He finds that the baby has severely soiled his diaper. So the little boy goes to his parents' room and finds his mother sound asleep. Not wanting to wake her, he goes to the nanny's room. Finding the door locked, he peeks in the keyhole and sees his father in bed with the nanny. He gives up and goes back to bed. The next morning, the little boy says to his father, \"Dad, I think I understand the concept of politics now.\" The father says, \"Good, son. Tell me in your own words what you think politics is all about.\" The little boy replies, \"Well, while capitalism is screwing the working class, the government is sound asleep, the people are being ignored and the future is in deep shit.\"\n",
      "Deep within a forest, a little turtle began to climb a tree. After hours of effort, he reached the top, jumped into the air waving his front legs and crashed to the ground. After recovering, he slowly climbed the tree again, jumped, and fell to the ground. The turtle tried again and again, while a couple of birds sitting on a branch watched his sad efforts. Finally, the female bird turned to her mate. \"Dear,\" she chirped, \"I think it's time to tell him he's adopted.\"\n",
      "Just a thought ..\n",
      "\n",
      "Before criticizing someone, walk a mile in their shoes.  \n",
      "\n",
      "Then when you do criticize them, \n",
      "you will be a mile away and have their shoes !\n",
      "\n",
      "\n",
      "Recommendations for user 30022:\n",
      "How many feminists does it take to screw in a light bulb?\n",
      "That's not funny.\n",
      "\n",
      "Q. Did you hear about the dyslexic devil worshiper? \n",
      "\n",
      "A. He sold his soul to Santa.\n",
      "\n",
      "Q. What's 200 feet long and has 4 teeth? \n",
      "\n",
      "A. The front row at a Willie Nelson Concert.\n",
      "\n",
      "Bill & Hillary are on a trip back to Arkansas. They're almost out of gas, so Bill pulls into a service station on the outskirts of\n",
      "town. The attendant runs out of the station to serve them when Hillary realizes it's an old boyfriend from high school. She and\n",
      "the attendant chat as he gases up their car and cleans the windows. Then they all say good-bye. \n",
      "\n",
      "As Bill pulls the car onto the road, he turns to Hillary and says, 'Now aren't you glad you married me and not him ? You could've\n",
      "been the wife of a grease monkey !' \n",
      "\n",
      "To which Hillary replied, 'No, Bill. If I would have married him, you'd be pumping gas and he would be the President !' \n",
      "\n",
      "Judy was having trouble with her computer, so she called Tony, the computer guy, over to her desk. Tony clicked a couple buttons and solved the problem. As he was walking away, Judy called after him, \"So, what was wrong?\" And he replied, \"It was an ID Ten T Error.\" A puzzled expression ran riot over Judy's face. \"An ID Ten T Error? What's that...in case I need to fix it again?\" He gave her a grin...\"Haven't you ever heard of an ID Ten T Error before?\" \"No,\" replied Judy. \"Write it down,\" he said, \"and I think you'll figure it out.\" (She wrote...) I D 1 0 T\n",
      "\n",
      "Recommendations for user 16130:\n",
      "Two atoms are walking down the street when one \n",
      "atom says to the other \n",
      "\"Oh, my! I've lost an electron!\"\n",
      "\n",
      "The second atom says\"Are you sure\"\n",
      "\n",
      "The first replies \"I'm positive!\"\n",
      "\n",
      "What do you get when you run over a parakeet with a lawnmower? \n",
      "Shredded tweet.\n",
      "\n",
      "Two kindergarten girls were talking outside: one said, \"You\n",
      "won't believe what I saw on the patio yesterday--a condom!\"\n",
      "\n",
      "The second girl asked, \"What's a patio?\"\n",
      "\n",
      "Deep within a forest, a little turtle began to climb a tree. After hours of effort, he reached the top, jumped into the air waving his front legs and crashed to the ground. After recovering, he slowly climbed the tree again, jumped, and fell to the ground. The turtle tried again and again, while a couple of birds sitting on a branch watched his sad efforts. Finally, the female bird turned to her mate. \"Dear,\" she chirped, \"I think it's time to tell him he's adopted.\"\n",
      "A little boy goes to his dad and asks, \"What is politics?\" His dad says, \"Well son, let me try to explain it this way: I'm the breadwinner of the family, so let's call me capitalism. Your Mom, she's the administrator of the money, so we'll call her the government. We're here to take care of your needs, so we'll call you the people. The nanny, we'll consider her the working class. And your baby brother, we'll call him the future. Now, think about that and see if that makes sense.\" So the little boy goes off to bed thinking about what dad had said. Later that night, he hears his baby brother crying, so he gets up to check on him. He finds that the baby has severely soiled his diaper. So the little boy goes to his parents' room and finds his mother sound asleep. Not wanting to wake her, he goes to the nanny's room. Finding the door locked, he peeks in the keyhole and sees his father in bed with the nanny. He gives up and goes back to bed. The next morning, the little boy says to his father, \"Dad, I think I understand the concept of politics now.\" The father says, \"Good, son. Tell me in your own words what you think politics is all about.\" The little boy replies, \"Well, while capitalism is screwing the working class, the government is sound asleep, the people are being ignored and the future is in deep shit.\"\n",
      "\n"
     ]
    }
   ],
   "source": [
    "for user_id, top_items in recommendations.items():\n",
    "    print(f'Recommendations for user {user_id}:')\n",
    "    for item_id in top_items:\n",
    "        print(items.loc[items['jokeId'] == item_id, 'jokeText'].values[0])\n",
    "    print()"
   ]
  },
  {
   "cell_type": "markdown",
   "id": "18ab452e-058a-4611-a723-5e4428a51483",
   "metadata": {
    "tags": []
   },
   "source": [
    "## Justificativas"
   ]
  },
  {
   "cell_type": "markdown",
   "id": "a5919f80-56ef-433c-985c-120773ab9f8e",
   "metadata": {},
   "source": [
    "-O método escolhido foi a Fatoração de Matrizes com TruncatedSVD, que é eficitente para fatoração de matrizes de grande dimensão, gerando recomendações para os usuários.\n",
    "\n",
    "-Os usuários foram escolhidos com base nos seus ratings médios para os diferentes items, desta forma conseguimos selecionar usuários de diferentes quantis."
   ]
  }
 ],
 "metadata": {
  "kernelspec": {
   "display_name": "Python 3",
   "language": "python",
   "name": "python3"
  },
  "language_info": {
   "codemirror_mode": {
    "name": "ipython",
    "version": 3
   },
   "file_extension": ".py",
   "mimetype": "text/x-python",
   "name": "python",
   "nbconvert_exporter": "python",
   "pygments_lexer": "ipython3",
   "version": "3.7.6"
  }
 },
 "nbformat": 4,
 "nbformat_minor": 5
}
